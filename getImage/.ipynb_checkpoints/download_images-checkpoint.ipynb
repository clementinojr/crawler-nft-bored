{
 "cells": [
  {
   "cell_type": "code",
   "execution_count": 1,
   "id": "0019961a-875d-4566-af4f-2ff7f3f3e815",
   "metadata": {},
   "outputs": [],
   "source": [
    "import glob\n",
    "\n",
    "mydir = \"C:\\\\Users\\\\junin\\\\Downloads\\\\Bored\\getImage\\\\\"\n",
    "\n",
    "file_list = glob.glob(mydir + \"/*.csv\")\n",
    "import pandas as pd\n",
    "## Importing Necessary Modules\n",
    "import requests # to get image from the web\n",
    "import shutil # to save it locally"
   ]
  },
  {
   "cell_type": "code",
   "execution_count": 2,
   "id": "d20c42f0-52a8-4cc1-ab7e-9ead6de66904",
   "metadata": {},
   "outputs": [
    {
     "data": {
      "text/plain": [
       "['C:\\\\Users\\\\junin\\\\Downloads\\\\Bored\\\\getImage\\\\sucess.csv',\n",
       " 'C:\\\\Users\\\\junin\\\\Downloads\\\\Bored\\\\getImage\\\\_expect9856.csv']"
      ]
     },
     "execution_count": 2,
     "metadata": {},
     "output_type": "execute_result"
    }
   ],
   "source": [
    "file_list"
   ]
  },
  {
   "cell_type": "code",
   "execution_count": 3,
   "id": "b2160760-2743-4edf-ac49-3f9d0618ff27",
   "metadata": {},
   "outputs": [],
   "source": [
    "lista_df = []\n",
    "for i in file_list:\n",
    "    df = pd.read_csv(i,header = None)\n",
    "    lista_df.append(df)"
   ]
  },
  {
   "cell_type": "code",
   "execution_count": 4,
   "id": "46efa52d-d312-4284-a377-a94cdde40bd2",
   "metadata": {},
   "outputs": [],
   "source": [
    "df_new = pd.concat(lista_df, axis=0)"
   ]
  },
  {
   "cell_type": "code",
   "execution_count": 5,
   "id": "b20d56f0-33e4-4bcc-9c1b-1385e56c170f",
   "metadata": {},
   "outputs": [],
   "source": [
    "df_new.columns=[\"id\", \"link\"]"
   ]
  },
  {
   "cell_type": "code",
   "execution_count": 6,
   "id": "dd0c6b4f-a909-4abe-af09-95453e7c3426",
   "metadata": {},
   "outputs": [
    {
     "data": {
      "text/html": [
       "<div>\n",
       "<style scoped>\n",
       "    .dataframe tbody tr th:only-of-type {\n",
       "        vertical-align: middle;\n",
       "    }\n",
       "\n",
       "    .dataframe tbody tr th {\n",
       "        vertical-align: top;\n",
       "    }\n",
       "\n",
       "    .dataframe thead th {\n",
       "        text-align: right;\n",
       "    }\n",
       "</style>\n",
       "<table border=\"1\" class=\"dataframe\">\n",
       "  <thead>\n",
       "    <tr style=\"text-align: right;\">\n",
       "      <th></th>\n",
       "      <th>id</th>\n",
       "      <th>link</th>\n",
       "    </tr>\n",
       "  </thead>\n",
       "  <tbody>\n",
       "    <tr>\n",
       "      <th>0</th>\n",
       "      <td>0</td>\n",
       "      <td>https://lh3.googleusercontent.com/mPpOei8345NW...</td>\n",
       "    </tr>\n",
       "    <tr>\n",
       "      <th>1</th>\n",
       "      <td>1</td>\n",
       "      <td>https://lh3.googleusercontent.com/9WkSu8CP7gZj...</td>\n",
       "    </tr>\n",
       "    <tr>\n",
       "      <th>2</th>\n",
       "      <td>2</td>\n",
       "      <td>https://lh3.googleusercontent.com/m1aEl7dGOjJ5...</td>\n",
       "    </tr>\n",
       "    <tr>\n",
       "      <th>3</th>\n",
       "      <td>3</td>\n",
       "      <td>https://lh3.googleusercontent.com/l3FDHfAh66oG...</td>\n",
       "    </tr>\n",
       "    <tr>\n",
       "      <th>4</th>\n",
       "      <td>4</td>\n",
       "      <td>https://lh3.googleusercontent.com/lCQ3OZF_3JuM...</td>\n",
       "    </tr>\n",
       "    <tr>\n",
       "      <th>...</th>\n",
       "      <td>...</td>\n",
       "      <td>...</td>\n",
       "    </tr>\n",
       "    <tr>\n",
       "      <th>194</th>\n",
       "      <td>9804</td>\n",
       "      <td>https://lh3.googleusercontent.com/P7ukEuRIvC4f...</td>\n",
       "    </tr>\n",
       "    <tr>\n",
       "      <th>195</th>\n",
       "      <td>9803</td>\n",
       "      <td>https://lh3.googleusercontent.com/HV_uVUJzDzKB...</td>\n",
       "    </tr>\n",
       "    <tr>\n",
       "      <th>196</th>\n",
       "      <td>9802</td>\n",
       "      <td>https://lh3.googleusercontent.com/_3Od5BG9sUmP...</td>\n",
       "    </tr>\n",
       "    <tr>\n",
       "      <th>197</th>\n",
       "      <td>9801</td>\n",
       "      <td>https://lh3.googleusercontent.com/SA6GggQg0DRt...</td>\n",
       "    </tr>\n",
       "    <tr>\n",
       "      <th>198</th>\n",
       "      <td>9800</td>\n",
       "      <td>https://lh3.googleusercontent.com/2H5bR41J_XCJ...</td>\n",
       "    </tr>\n",
       "  </tbody>\n",
       "</table>\n",
       "<p>9981 rows × 2 columns</p>\n",
       "</div>"
      ],
      "text/plain": [
       "       id                                               link\n",
       "0       0  https://lh3.googleusercontent.com/mPpOei8345NW...\n",
       "1       1  https://lh3.googleusercontent.com/9WkSu8CP7gZj...\n",
       "2       2  https://lh3.googleusercontent.com/m1aEl7dGOjJ5...\n",
       "3       3  https://lh3.googleusercontent.com/l3FDHfAh66oG...\n",
       "4       4  https://lh3.googleusercontent.com/lCQ3OZF_3JuM...\n",
       "..    ...                                                ...\n",
       "194  9804  https://lh3.googleusercontent.com/P7ukEuRIvC4f...\n",
       "195  9803  https://lh3.googleusercontent.com/HV_uVUJzDzKB...\n",
       "196  9802  https://lh3.googleusercontent.com/_3Od5BG9sUmP...\n",
       "197  9801  https://lh3.googleusercontent.com/SA6GggQg0DRt...\n",
       "198  9800  https://lh3.googleusercontent.com/2H5bR41J_XCJ...\n",
       "\n",
       "[9981 rows x 2 columns]"
      ]
     },
     "execution_count": 6,
     "metadata": {},
     "output_type": "execute_result"
    }
   ],
   "source": [
    "df_new"
   ]
  },
  {
   "cell_type": "code",
   "execution_count": 7,
   "id": "56804910-e598-48e6-888f-e764a5294d21",
   "metadata": {},
   "outputs": [
    {
     "data": {
      "text/html": [
       "<div>\n",
       "<style scoped>\n",
       "    .dataframe tbody tr th:only-of-type {\n",
       "        vertical-align: middle;\n",
       "    }\n",
       "\n",
       "    .dataframe tbody tr th {\n",
       "        vertical-align: top;\n",
       "    }\n",
       "\n",
       "    .dataframe thead th {\n",
       "        text-align: right;\n",
       "    }\n",
       "</style>\n",
       "<table border=\"1\" class=\"dataframe\">\n",
       "  <thead>\n",
       "    <tr style=\"text-align: right;\">\n",
       "      <th></th>\n",
       "      <th>id</th>\n",
       "      <th>link</th>\n",
       "    </tr>\n",
       "  </thead>\n",
       "  <tbody>\n",
       "    <tr>\n",
       "      <th>0</th>\n",
       "      <td>0</td>\n",
       "      <td>https://lh3.googleusercontent.com/mPpOei8345NW...</td>\n",
       "    </tr>\n",
       "    <tr>\n",
       "      <th>1</th>\n",
       "      <td>1</td>\n",
       "      <td>https://lh3.googleusercontent.com/9WkSu8CP7gZj...</td>\n",
       "    </tr>\n",
       "    <tr>\n",
       "      <th>2</th>\n",
       "      <td>2</td>\n",
       "      <td>https://lh3.googleusercontent.com/m1aEl7dGOjJ5...</td>\n",
       "    </tr>\n",
       "    <tr>\n",
       "      <th>3</th>\n",
       "      <td>3</td>\n",
       "      <td>https://lh3.googleusercontent.com/l3FDHfAh66oG...</td>\n",
       "    </tr>\n",
       "    <tr>\n",
       "      <th>4</th>\n",
       "      <td>4</td>\n",
       "      <td>https://lh3.googleusercontent.com/lCQ3OZF_3JuM...</td>\n",
       "    </tr>\n",
       "    <tr>\n",
       "      <th>...</th>\n",
       "      <td>...</td>\n",
       "      <td>...</td>\n",
       "    </tr>\n",
       "    <tr>\n",
       "      <th>194</th>\n",
       "      <td>9804</td>\n",
       "      <td>https://lh3.googleusercontent.com/P7ukEuRIvC4f...</td>\n",
       "    </tr>\n",
       "    <tr>\n",
       "      <th>195</th>\n",
       "      <td>9803</td>\n",
       "      <td>https://lh3.googleusercontent.com/HV_uVUJzDzKB...</td>\n",
       "    </tr>\n",
       "    <tr>\n",
       "      <th>196</th>\n",
       "      <td>9802</td>\n",
       "      <td>https://lh3.googleusercontent.com/_3Od5BG9sUmP...</td>\n",
       "    </tr>\n",
       "    <tr>\n",
       "      <th>197</th>\n",
       "      <td>9801</td>\n",
       "      <td>https://lh3.googleusercontent.com/SA6GggQg0DRt...</td>\n",
       "    </tr>\n",
       "    <tr>\n",
       "      <th>198</th>\n",
       "      <td>9800</td>\n",
       "      <td>https://lh3.googleusercontent.com/2H5bR41J_XCJ...</td>\n",
       "    </tr>\n",
       "  </tbody>\n",
       "</table>\n",
       "<p>9972 rows × 2 columns</p>\n",
       "</div>"
      ],
      "text/plain": [
       "       id                                               link\n",
       "0       0  https://lh3.googleusercontent.com/mPpOei8345NW...\n",
       "1       1  https://lh3.googleusercontent.com/9WkSu8CP7gZj...\n",
       "2       2  https://lh3.googleusercontent.com/m1aEl7dGOjJ5...\n",
       "3       3  https://lh3.googleusercontent.com/l3FDHfAh66oG...\n",
       "4       4  https://lh3.googleusercontent.com/lCQ3OZF_3JuM...\n",
       "..    ...                                                ...\n",
       "194  9804  https://lh3.googleusercontent.com/P7ukEuRIvC4f...\n",
       "195  9803  https://lh3.googleusercontent.com/HV_uVUJzDzKB...\n",
       "196  9802  https://lh3.googleusercontent.com/_3Od5BG9sUmP...\n",
       "197  9801  https://lh3.googleusercontent.com/SA6GggQg0DRt...\n",
       "198  9800  https://lh3.googleusercontent.com/2H5bR41J_XCJ...\n",
       "\n",
       "[9972 rows x 2 columns]"
      ]
     },
     "execution_count": 7,
     "metadata": {},
     "output_type": "execute_result"
    }
   ],
   "source": [
    "df_new.drop_duplicates(subset=['link'], keep=False)"
   ]
  },
  {
   "cell_type": "code",
   "execution_count": 8,
   "id": "1b19e300-c49b-4e6b-81d3-a0d783ac16d4",
   "metadata": {},
   "outputs": [],
   "source": [
    "list_image_error = []"
   ]
  },
  {
   "cell_type": "code",
   "execution_count": null,
   "id": "9d8113a2-ca69-4b03-9304-a534d3c55172",
   "metadata": {},
   "outputs": [],
   "source": [
    "for index, row in df_new.iterrows():\n",
    "    image_url = row['link']\n",
    "    name = row['id']\n",
    "    \n",
    "    try:\n",
    "        img_data = requests.get(image_url).content\n",
    "        with open(f'E:/Bored/ImagensBored/{name}.png', 'wb') as handler:\n",
    "            handler.write(img_data)\n",
    "    except:\n",
    "        list_image_error.append(name)\n",
    "        pass\n"
   ]
  },
  {
   "cell_type": "code",
   "execution_count": null,
   "id": "538d47b7-a04b-4aa0-b94d-94192ddd0c28",
   "metadata": {},
   "outputs": [],
   "source": []
  }
 ],
 "metadata": {
  "kernelspec": {
   "display_name": "base",
   "language": "python",
   "name": "base"
  },
  "language_info": {
   "codemirror_mode": {
    "name": "ipython",
    "version": 3
   },
   "file_extension": ".py",
   "mimetype": "text/x-python",
   "name": "python",
   "nbconvert_exporter": "python",
   "pygments_lexer": "ipython3",
   "version": "3.9.7"
  }
 },
 "nbformat": 4,
 "nbformat_minor": 5
}
